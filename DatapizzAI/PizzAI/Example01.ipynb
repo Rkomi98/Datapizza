{
 "cells": [
  {
   "cell_type": "code",
   "execution_count": null,
   "id": "9c5465b4-4d94-45f5-b9c7-6877d7cf1b92",
   "metadata": {},
   "outputs": [
    {
     "ename": "ModuleNotFoundError",
     "evalue": "No module named 'datapizzai.llms'",
     "output_type": "error",
     "traceback": [
      "\u001b[31m---------------------------------------------------------------------------\u001b[39m",
      "\u001b[31mModuleNotFoundError\u001b[39m                       Traceback (most recent call last)",
      "\u001b[36mCell\u001b[39m\u001b[36m \u001b[39m\u001b[32mIn[4]\u001b[39m\u001b[32m, line 3\u001b[39m\n\u001b[32m      1\u001b[39m \u001b[38;5;66;03m# 1. Importa le classi necessarie\u001b[39;00m\n\u001b[32m      2\u001b[39m \u001b[38;5;28;01mfrom\u001b[39;00m\u001b[38;5;250m \u001b[39m\u001b[34;01mdatapizzai\u001b[39;00m\u001b[34;01m.\u001b[39;00m\u001b[34;01magents\u001b[39;00m\u001b[38;5;250m \u001b[39m\u001b[38;5;28;01mimport\u001b[39;00m Agent\n\u001b[32m----> \u001b[39m\u001b[32m3\u001b[39m \u001b[38;5;28;01mfrom\u001b[39;00m\u001b[38;5;250m \u001b[39m\u001b[34;01mdatapizzai\u001b[39;00m\u001b[34;01m.\u001b[39;00m\u001b[34;01mllms\u001b[39;00m\u001b[38;5;250m \u001b[39m\u001b[38;5;28;01mimport\u001b[39;00m Client \u001b[38;5;66;03m# Assumo che il client si trovi qui\u001b[39;00m\n\u001b[32m      5\u001b[39m \u001b[38;5;66;03m# 2. Crea il client\u001b[39;00m\n\u001b[32m      6\u001b[39m \u001b[38;5;66;03m#    Questo leggerà automaticamente le API key (es. ANTHROPIC_API_KEY) \u001b[39;00m\n\u001b[32m      7\u001b[39m \u001b[38;5;66;03m#    dalle tue variabili d'ambiente.\u001b[39;00m\n\u001b[32m      8\u001b[39m client = Client()\n",
      "\u001b[31mModuleNotFoundError\u001b[39m: No module named 'datapizzai.llms'"
     ]
    }
   ],
   "source": [
    "# 1. Importa le classi necessarie\n",
    "from datapizzai.agents import Agent\n",
    "from datapizzai.clients import OpenAIClient\n",
    "\n",
    "# 2. Crea il client\n",
    "#    Questo leggerà automaticamente le API key (es. ANTHROPIC_API_KEY) \n",
    "#    dalle tue variabili d'ambiente.\n",
    "client = Client()\n",
    "\n",
    "# 3. Crea l'agente, passando client e nome\n",
    "agent = Agent(client=client, name=\"agente-di-prova\")\n",
    "\n",
    "# 4. Ora puoi usare l'agente\n",
    "res = agent.invoke(\"ciao, qual'è la cucina più buona del mondo?\")\n",
    "print(res)"
   ]
  }
 ],
 "metadata": {
  "kernelspec": {
   "display_name": "PizzAI",
   "language": "python",
   "name": "pizzai"
  },
  "language_info": {
   "codemirror_mode": {
    "name": "ipython",
    "version": 3
   },
   "file_extension": ".py",
   "mimetype": "text/x-python",
   "name": "python",
   "nbconvert_exporter": "python",
   "pygments_lexer": "ipython3",
   "version": "3.12.11"
  }
 },
 "nbformat": 4,
 "nbformat_minor": 5
}
