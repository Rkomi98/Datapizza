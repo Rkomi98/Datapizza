{
 "cells": [
  {
   "cell_type": "code",
   "execution_count": null,
   "id": "9c5465b4-4d94-45f5-b9c7-6877d7cf1b92",
   "metadata": {},
   "outputs": [
    {
     "ename": "ModuleNotFoundError",
     "evalue": "No module named 'datapizzai'",
     "output_type": "error",
     "traceback": [
      "\u001b[31m---------------------------------------------------------------------------\u001b[39m",
      "\u001b[31mModuleNotFoundError\u001b[39m                       Traceback (most recent call last)",
      "\u001b[36mCell\u001b[39m\u001b[36m \u001b[39m\u001b[32mIn[1]\u001b[39m\u001b[32m, line 1\u001b[39m\n\u001b[32m----> \u001b[39m\u001b[32m1\u001b[39m \u001b[38;5;28;01mfrom\u001b[39;00m \u001b[34;01mdatapizzai\u001b[39;00m\u001b[34;01m.\u001b[39;00m\u001b[34;01magents\u001b[39;00m \u001b[38;5;28;01mimport\u001b[39;00m Agent\n\u001b[32m      3\u001b[39m agent = Agent()\n\u001b[32m      5\u001b[39m res = agent.invoke(\u001b[33m\"\u001b[39m\u001b[33mciao, qual\u001b[39m\u001b[33m'\u001b[39m\u001b[33mè la cucina più buona del mondo?\u001b[39m\u001b[33m\"\u001b[39m)\n",
      "\u001b[31mModuleNotFoundError\u001b[39m: No module named 'datapizzai'"
     ]
    }
   ],
   "source": [
    "from datapizzai.agents import Agent\n",
    "\n",
    "agent = Agent()\n",
    "\n",
    "res = agent.invoke(\"ciao, qual'è la cucina più buona del mondo?\")\n",
    "print(res)\n",
    "\n",
    "print(response.text)"
   ]
  }
 ],
 "metadata": {
  "kernelspec": {
   "display_name": "datapizza-env",
   "language": "python",
   "name": "python3"
  },
  "language_info": {
   "codemirror_mode": {
    "name": "ipython",
    "version": 3
   },
   "file_extension": ".py",
   "mimetype": "text/x-python",
   "name": "python",
   "nbconvert_exporter": "python",
   "pygments_lexer": "ipython3",
   "version": "3.12.11"
  }
 },
 "nbformat": 4,
 "nbformat_minor": 5
}
